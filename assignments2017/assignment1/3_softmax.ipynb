{
 "cells": [
  {
   "cell_type": "markdown",
   "metadata": {},
   "source": [
    "# Softmax exercise\n",
    "\n",
    "*Complete and hand in this completed worksheet (including its outputs and any supporting code outside of the worksheet) with your assignment submission. For more details see the [assignments page](http://vision.stanford.edu/teaching/cs231n/assignments.html) on the course website.*\n",
    "\n",
    "This exercise is analogous to the SVM exercise. You will:\n",
    "\n",
    "- implement a fully-vectorized **loss function** for the Softmax classifier\n",
    "- implement the fully-vectorized expression for its **analytic gradient**\n",
    "- **check your implementation** with numerical gradient\n",
    "- use a validation set to **tune the learning rate and regularization** strength\n",
    "- **optimize** the loss function with **SGD**\n",
    "- **visualize** the final learned weights\n"
   ]
  },
  {
   "cell_type": "code",
   "execution_count": 43,
   "metadata": {
    "collapsed": false
   },
   "outputs": [
    {
     "name": "stdout",
     "output_type": "stream",
     "text": [
      "The autoreload extension is already loaded. To reload it, use:\n",
      "  %reload_ext autoreload\n"
     ]
    }
   ],
   "source": [
    "import random\n",
    "import numpy as np\n",
    "from cs231n.data_utils import load_CIFAR10\n",
    "import matplotlib.pyplot as plt\n",
    "\n",
    "from __future__ import print_function\n",
    "\n",
    "%matplotlib inline\n",
    "plt.rcParams['figure.figsize'] = (10.0, 8.0) # set default size of plots\n",
    "plt.rcParams['image.interpolation'] = 'nearest'\n",
    "plt.rcParams['image.cmap'] = 'gray'\n",
    "\n",
    "# for auto-reloading extenrnal modules\n",
    "# see http://stackoverflow.com/questions/1907993/autoreload-of-modules-in-ipython\n",
    "%load_ext autoreload\n",
    "%autoreload 2"
   ]
  },
  {
   "cell_type": "code",
   "execution_count": 44,
   "metadata": {
    "collapsed": false
   },
   "outputs": [
    {
     "name": "stdout",
     "output_type": "stream",
     "text": [
      "Train data shape:  (49000, 3073)\n",
      "Train labels shape:  (49000,)\n",
      "Validation data shape:  (1000, 3073)\n",
      "Validation labels shape:  (1000,)\n",
      "Test data shape:  (1000, 3073)\n",
      "Test labels shape:  (1000,)\n",
      "dev data shape:  (500, 3073)\n",
      "dev labels shape:  (500,)\n"
     ]
    }
   ],
   "source": [
    "def get_CIFAR10_data(num_training=49000, num_validation=1000, num_test=1000, num_dev=500):\n",
    "    \"\"\"\n",
    "    Load the CIFAR-10 dataset from disk and perform preprocessing to prepare\n",
    "    it for the linear classifier. These are the same steps as we used for the\n",
    "    SVM, but condensed to a single function.  \n",
    "    \"\"\"\n",
    "    # Load the raw CIFAR-10 data\n",
    "    cifar10_dir = 'cs231n/datasets/cifar-10-batches-py'\n",
    "    X_train, y_train, X_test, y_test = load_CIFAR10(cifar10_dir)\n",
    "    \n",
    "    # subsample the data\n",
    "    mask = list(range(num_training, num_training + num_validation))\n",
    "    X_val = X_train[mask]\n",
    "    y_val = y_train[mask]\n",
    "    mask = list(range(num_training))\n",
    "    X_train = X_train[mask]\n",
    "    y_train = y_train[mask]\n",
    "    mask = list(range(num_test))\n",
    "    X_test = X_test[mask]\n",
    "    y_test = y_test[mask]\n",
    "    mask = np.random.choice(num_training, num_dev, replace=False)\n",
    "    X_dev = X_train[mask]\n",
    "    y_dev = y_train[mask]\n",
    "    \n",
    "    # Preprocessing: reshape the image data into rows\n",
    "    X_train = np.reshape(X_train, (X_train.shape[0], -1))\n",
    "    X_val = np.reshape(X_val, (X_val.shape[0], -1))\n",
    "    X_test = np.reshape(X_test, (X_test.shape[0], -1))\n",
    "    X_dev = np.reshape(X_dev, (X_dev.shape[0], -1))\n",
    "    \n",
    "    # Normalize the data: subtract the mean image\n",
    "    mean_image = np.mean(X_train, axis = 0)\n",
    "    X_train -= mean_image\n",
    "    X_val -= mean_image\n",
    "    X_test -= mean_image\n",
    "    X_dev -= mean_image\n",
    "    \n",
    "    # add bias dimension and transform into columns\n",
    "    X_train = np.hstack([X_train, np.ones((X_train.shape[0], 1))])\n",
    "    X_val = np.hstack([X_val, np.ones((X_val.shape[0], 1))])\n",
    "    X_test = np.hstack([X_test, np.ones((X_test.shape[0], 1))])\n",
    "    X_dev = np.hstack([X_dev, np.ones((X_dev.shape[0], 1))])\n",
    "    \n",
    "    return X_train, y_train, X_val, y_val, X_test, y_test, X_dev, y_dev\n",
    "\n",
    "\n",
    "# Invoke the above function to get our data.\n",
    "X_train, y_train, X_val, y_val, X_test, y_test, X_dev, y_dev = get_CIFAR10_data()\n",
    "print('Train data shape: ', X_train.shape)\n",
    "print('Train labels shape: ', y_train.shape)\n",
    "print('Validation data shape: ', X_val.shape)\n",
    "print('Validation labels shape: ', y_val.shape)\n",
    "print('Test data shape: ', X_test.shape)\n",
    "print('Test labels shape: ', y_test.shape)\n",
    "print('dev data shape: ', X_dev.shape)\n",
    "print('dev labels shape: ', y_dev.shape)"
   ]
  },
  {
   "cell_type": "markdown",
   "metadata": {},
   "source": [
    "## Softmax Classifier\n",
    "\n",
    "Your code for this section will all be written inside **cs231n/classifiers/softmax.py**. \n"
   ]
  },
  {
   "cell_type": "code",
   "execution_count": 45,
   "metadata": {
    "collapsed": false
   },
   "outputs": [
    {
     "name": "stdout",
     "output_type": "stream",
     "text": [
      "loss: 2.341466\n",
      "sanity check: 2.302585\n"
     ]
    }
   ],
   "source": [
    "# First implement the naive softmax loss function with nested loops.\n",
    "# Open the file cs231n/classifiers/softmax.py and implement the\n",
    "# softmax_loss_naive function.\n",
    "\n",
    "from cs231n.classifiers.softmax import softmax_loss_naive\n",
    "import time\n",
    "\n",
    "# Generate a random softmax weight matrix and use it to compute the loss.\n",
    "W = np.random.randn(3073, 10) * 0.0001\n",
    "loss, grad = softmax_loss_naive(W, X_dev, y_dev, 0.0)\n",
    "\n",
    "# As a rough sanity check, our loss should be something close to -log(0.1).\n",
    "print('loss: %f' % loss)\n",
    "print('sanity check: %f' % (-np.log(0.1)))"
   ]
  },
  {
   "cell_type": "markdown",
   "metadata": {},
   "source": [
    "## Inline Question 1:\n",
    "Why do we expect our loss to be close to -log(0.1)? Explain briefly.**\n",
    "\n",
    "**Your answer:** *Fill this in*\n"
   ]
  },
  {
   "cell_type": "code",
   "execution_count": 46,
   "metadata": {
    "collapsed": false
   },
   "outputs": [
    {
     "name": "stdout",
     "output_type": "stream",
     "text": [
      "numerical: 1.147859 analytic: 1.147859, relative error: 7.032595e-09\n",
      "numerical: 1.036694 analytic: 1.036694, relative error: 4.237869e-09\n",
      "numerical: -1.159508 analytic: -1.159508, relative error: 1.627472e-09\n",
      "numerical: -5.248833 analytic: -5.248833, relative error: 8.657940e-09\n",
      "numerical: 1.756993 analytic: 1.756993, relative error: 5.413120e-09\n",
      "numerical: 2.932114 analytic: 2.932114, relative error: 1.122008e-08\n",
      "numerical: -0.535359 analytic: -0.535359, relative error: 5.932738e-09\n",
      "numerical: 1.080307 analytic: 1.080307, relative error: 1.961883e-08\n",
      "numerical: 3.244424 analytic: 3.244424, relative error: 1.024079e-08\n",
      "numerical: 3.537441 analytic: 3.537441, relative error: 1.356609e-08\n",
      "numerical: 0.574530 analytic: 0.574531, relative error: 2.591199e-08\n",
      "numerical: 0.005615 analytic: 0.005615, relative error: 8.086820e-06\n",
      "numerical: -1.650034 analytic: -1.650034, relative error: 6.328744e-09\n",
      "numerical: 0.281429 analytic: 0.281429, relative error: 1.056853e-07\n",
      "numerical: 2.166957 analytic: 2.166957, relative error: 3.147225e-08\n",
      "numerical: 0.925408 analytic: 0.925408, relative error: 2.847241e-08\n",
      "numerical: -0.806218 analytic: -0.806218, relative error: 1.944619e-08\n",
      "numerical: 2.009327 analytic: 2.009327, relative error: 1.564883e-08\n",
      "numerical: -1.112123 analytic: -1.112123, relative error: 2.097059e-08\n",
      "numerical: -3.622888 analytic: -3.622889, relative error: 1.665128e-08\n"
     ]
    }
   ],
   "source": [
    "# Complete the implementation of softmax_loss_naive and implement a (naive)\n",
    "# version of the gradient that uses nested loops.\n",
    "loss, grad = softmax_loss_naive(W, X_dev, y_dev, 0.0)\n",
    "\n",
    "# As we did for the SVM, use numeric gradient checking as a debugging tool.\n",
    "# The numeric gradient should be close to the analytic gradient.\n",
    "from cs231n.gradient_check import grad_check_sparse\n",
    "f = lambda w: softmax_loss_naive(w, X_dev, y_dev, 0.0)[0]\n",
    "grad_numerical = grad_check_sparse(f, W, grad, 10)\n",
    "\n",
    "# similar to SVM case, do another gradient check with regularization\n",
    "loss, grad = softmax_loss_naive(W, X_dev, y_dev, 5e1)\n",
    "f = lambda w: softmax_loss_naive(w, X_dev, y_dev, 5e1)[0]\n",
    "grad_numerical = grad_check_sparse(f, W, grad, 10)"
   ]
  },
  {
   "cell_type": "code",
   "execution_count": 47,
   "metadata": {
    "collapsed": false
   },
   "outputs": [
    {
     "name": "stdout",
     "output_type": "stream",
     "text": [
      "naive loss: 2.341466e+00 computed in 0.140130s\n",
      "vectorized loss: 2.341466e+00 computed in 0.006968s\n",
      "Loss difference: 0.000000\n",
      "Gradient difference: 0.000000\n"
     ]
    }
   ],
   "source": [
    "# Now that we have a naive implementation of the softmax loss function and its gradient,\n",
    "# implement a vectorized version in softmax_loss_vectorized.\n",
    "# The two versions should compute the same results, but the vectorized version should be\n",
    "# much faster.\n",
    "tic = time.time()\n",
    "loss_naive, grad_naive = softmax_loss_naive(W, X_dev, y_dev, 0.000005)\n",
    "toc = time.time()\n",
    "print('naive loss: %e computed in %fs' % (loss_naive, toc - tic))\n",
    "\n",
    "from cs231n.classifiers.softmax import softmax_loss_vectorized\n",
    "tic = time.time()\n",
    "loss_vectorized, grad_vectorized = softmax_loss_vectorized(W, X_dev, y_dev, 0.000005)\n",
    "toc = time.time()\n",
    "print('vectorized loss: %e computed in %fs' % (loss_vectorized, toc - tic))\n",
    "\n",
    "# As we did for the SVM, we use the Frobenius norm to compare the two versions\n",
    "# of the gradient.\n",
    "grad_difference = np.linalg.norm(grad_naive - grad_vectorized, ord='fro')\n",
    "print('Loss difference: %f' % np.abs(loss_naive - loss_vectorized))\n",
    "print('Gradient difference: %f' % grad_difference)"
   ]
  },
  {
   "cell_type": "code",
   "execution_count": 51,
   "metadata": {
    "collapsed": false
   },
   "outputs": [
    {
     "name": "stdout",
     "output_type": "stream",
     "text": [
      "lr 9.000000e-08 reg 6.000000e+03 train accuracy: 0.355898 val accuracy: 0.358000\n",
      "lr 9.000000e-08 reg 7.000000e+03 train accuracy: 0.356531 val accuracy: 0.383000\n",
      "lr 9.000000e-08 reg 8.000000e+03 train accuracy: 0.356878 val accuracy: 0.364000\n",
      "lr 9.000000e-08 reg 9.000000e+03 train accuracy: 0.358612 val accuracy: 0.371000\n",
      "lr 9.000000e-08 reg 1.000000e+04 train accuracy: 0.356878 val accuracy: 0.374000\n",
      "lr 9.000000e-08 reg 1.100000e+04 train accuracy: 0.356347 val accuracy: 0.371000\n",
      "lr 9.000000e-08 reg 1.200000e+04 train accuracy: 0.349633 val accuracy: 0.362000\n",
      "lr 9.000000e-08 reg 1.300000e+04 train accuracy: 0.349245 val accuracy: 0.372000\n",
      "lr 1.000000e-07 reg 6.000000e+03 train accuracy: 0.360837 val accuracy: 0.379000\n",
      "lr 1.000000e-07 reg 7.000000e+03 train accuracy: 0.361653 val accuracy: 0.368000\n",
      "lr 1.000000e-07 reg 8.000000e+03 train accuracy: 0.360327 val accuracy: 0.366000\n",
      "lr 1.000000e-07 reg 9.000000e+03 train accuracy: 0.355837 val accuracy: 0.362000\n",
      "lr 1.000000e-07 reg 1.000000e+04 train accuracy: 0.357286 val accuracy: 0.375000\n",
      "lr 1.000000e-07 reg 1.100000e+04 train accuracy: 0.356898 val accuracy: 0.372000\n",
      "lr 1.000000e-07 reg 1.200000e+04 train accuracy: 0.353408 val accuracy: 0.369000\n",
      "lr 1.000000e-07 reg 1.300000e+04 train accuracy: 0.349755 val accuracy: 0.364000\n",
      "lr 2.000000e-07 reg 6.000000e+03 train accuracy: 0.366857 val accuracy: 0.383000\n",
      "lr 2.000000e-07 reg 7.000000e+03 train accuracy: 0.366367 val accuracy: 0.380000\n",
      "lr 2.000000e-07 reg 8.000000e+03 train accuracy: 0.364122 val accuracy: 0.384000\n",
      "lr 2.000000e-07 reg 9.000000e+03 train accuracy: 0.356469 val accuracy: 0.370000\n",
      "lr 2.000000e-07 reg 1.000000e+04 train accuracy: 0.358673 val accuracy: 0.368000\n",
      "lr 2.000000e-07 reg 1.100000e+04 train accuracy: 0.352327 val accuracy: 0.357000\n",
      "lr 2.000000e-07 reg 1.200000e+04 train accuracy: 0.351980 val accuracy: 0.364000\n",
      "lr 2.000000e-07 reg 1.300000e+04 train accuracy: 0.343367 val accuracy: 0.359000\n",
      "\n",
      "lr 9.000000e-08 reg 6.000000e+03 train accuracy: 0.355898 val accuracy: 0.358000\n",
      "lr 9.000000e-08 reg 7.000000e+03 train accuracy: 0.356531 val accuracy: 0.383000\n",
      "lr 9.000000e-08 reg 8.000000e+03 train accuracy: 0.356878 val accuracy: 0.364000\n",
      "lr 9.000000e-08 reg 9.000000e+03 train accuracy: 0.358612 val accuracy: 0.371000\n",
      "lr 9.000000e-08 reg 1.000000e+04 train accuracy: 0.356878 val accuracy: 0.374000\n",
      "lr 9.000000e-08 reg 1.100000e+04 train accuracy: 0.356347 val accuracy: 0.371000\n",
      "lr 9.000000e-08 reg 1.200000e+04 train accuracy: 0.349633 val accuracy: 0.362000\n",
      "lr 9.000000e-08 reg 1.300000e+04 train accuracy: 0.349245 val accuracy: 0.372000\n",
      "lr 1.000000e-07 reg 6.000000e+03 train accuracy: 0.360837 val accuracy: 0.379000\n",
      "lr 1.000000e-07 reg 7.000000e+03 train accuracy: 0.361653 val accuracy: 0.368000\n",
      "lr 1.000000e-07 reg 8.000000e+03 train accuracy: 0.360327 val accuracy: 0.366000\n",
      "lr 1.000000e-07 reg 9.000000e+03 train accuracy: 0.355837 val accuracy: 0.362000\n",
      "lr 1.000000e-07 reg 1.000000e+04 train accuracy: 0.357286 val accuracy: 0.375000\n",
      "lr 1.000000e-07 reg 1.100000e+04 train accuracy: 0.356898 val accuracy: 0.372000\n",
      "lr 1.000000e-07 reg 1.200000e+04 train accuracy: 0.353408 val accuracy: 0.369000\n",
      "lr 1.000000e-07 reg 1.300000e+04 train accuracy: 0.349755 val accuracy: 0.364000\n",
      "lr 2.000000e-07 reg 6.000000e+03 train accuracy: 0.366857 val accuracy: 0.383000\n",
      "lr 2.000000e-07 reg 7.000000e+03 train accuracy: 0.366367 val accuracy: 0.380000\n",
      "lr 2.000000e-07 reg 8.000000e+03 train accuracy: 0.364122 val accuracy: 0.384000\n",
      "lr 2.000000e-07 reg 9.000000e+03 train accuracy: 0.356469 val accuracy: 0.370000\n",
      "lr 2.000000e-07 reg 1.000000e+04 train accuracy: 0.358673 val accuracy: 0.368000\n",
      "lr 2.000000e-07 reg 1.100000e+04 train accuracy: 0.352327 val accuracy: 0.357000\n",
      "lr 2.000000e-07 reg 1.200000e+04 train accuracy: 0.351980 val accuracy: 0.364000\n",
      "lr 2.000000e-07 reg 1.300000e+04 train accuracy: 0.343367 val accuracy: 0.359000\n",
      "best validation accuracy achieved during cross-validation: 0.384000\n"
     ]
    }
   ],
   "source": [
    "# Use the validation set to tune hyperparameters (regularization strength and\n",
    "# learning rate). You should experiment with different ranges for the learning\n",
    "# rates and regularization strengths; if you are careful you should be able to\n",
    "# get a classification accuracy of over 0.35 on the validation set.\n",
    "from cs231n.classifiers import Softmax\n",
    "results = {}\n",
    "best_val = -1\n",
    "best_softmax = None\n",
    "# learning_rates = [1e-7, 5e-7]\n",
    "# regularization_strengths = [2.5e4, 5e4]\n",
    "learning_rates = [9e-8, 1e-7, 2e-7]\n",
    "regularization_strengths = [6e3, 7e3, 8e3, 9e3, 1e4, 1.1e4, 1.2e4, 1.3e4]\n",
    "\n",
    "################################################################################\n",
    "# TODO:                                                                        #\n",
    "# Use the validation set to set the learning rate and regularization strength. #\n",
    "# This should be identical to the validation that you did for the SVM; save    #\n",
    "# the best trained softmax classifer in best_softmax.                          #\n",
    "################################################################################\n",
    "for lr in learning_rates:\n",
    "    for reg in regularization_strengths:\n",
    "        current_model = Softmax()\n",
    "        _ = current_model.train(X_train, y_train, learning_rate=lr, reg=reg,\n",
    "                      num_iters=2000, verbose=False)\n",
    "        y_train_pred = current_model.predict(X_train)\n",
    "        current_train_acc = np.mean(y_train == y_train_pred)\n",
    "        y_val_pred = current_model.predict(X_val)\n",
    "        current_val_acc = np.mean(y_val_pred == y_val)\n",
    "        results[(lr, reg)] = (current_train_acc, current_val_acc)\n",
    "        if current_val_acc > best_val:\n",
    "            best_val = current_val_acc\n",
    "            best_softmax = current_model\n",
    "        print('lr %e reg %e train accuracy: %f val accuracy: %f' % (\n",
    "                lr, reg, current_train_acc, current_val_acc))\n",
    "print()        \n",
    "################################################################################\n",
    "#                              END OF YOUR CODE                                #\n",
    "################################################################################\n",
    "    \n",
    "# Print out results.\n",
    "for lr, reg in sorted(results):\n",
    "    train_accuracy, val_accuracy = results[(lr, reg)]\n",
    "    print('lr %e reg %e train accuracy: %f val accuracy: %f' % (\n",
    "                lr, reg, train_accuracy, val_accuracy))\n",
    "    \n",
    "print('best validation accuracy achieved during cross-validation: %f' % best_val)"
   ]
  },
  {
   "cell_type": "code",
   "execution_count": 52,
   "metadata": {
    "collapsed": false
   },
   "outputs": [
    {
     "name": "stdout",
     "output_type": "stream",
     "text": [
      "softmax on raw pixels final test set accuracy: 0.365000\n"
     ]
    }
   ],
   "source": [
    "# evaluate on test set\n",
    "# Evaluate the best softmax on test set\n",
    "y_test_pred = best_softmax.predict(X_test)\n",
    "test_accuracy = np.mean(y_test == y_test_pred)\n",
    "print('softmax on raw pixels final test set accuracy: %f' % (test_accuracy, ))"
   ]
  },
  {
   "cell_type": "code",
   "execution_count": 53,
   "metadata": {
    "collapsed": false
   },
   "outputs": [
    {
     "data": {
      "image/png": "[encoded data removed]",
      "text/plain": [
       "<matplotlib.figure.Figure at 0x10e38bf28>"
      ]
     },
     "metadata": {},
     "output_type": "display_data"
    }
   ],
   "source": [
    "# Visualize the learned weights for each class\n",
    "w = best_softmax.W[:-1,:] # strip out the bias\n",
    "w = w.reshape(32, 32, 3, 10)\n",
    "\n",
    "w_min, w_max = np.min(w), np.max(w)\n",
    "\n",
    "classes = ['plane', 'car', 'bird', 'cat', 'deer', 'dog', 'frog', 'horse', 'ship', 'truck']\n",
    "for i in range(10):\n",
    "    plt.subplot(2, 5, i + 1)\n",
    "    \n",
    "    # Rescale the weights to be between 0 and 255\n",
    "    wimg = 255.0 * (w[:, :, :, i].squeeze() - w_min) / (w_max - w_min)\n",
    "    plt.imshow(wimg.astype('uint8'))\n",
    "    plt.axis('off')\n",
    "    plt.title(classes[i])"
   ]
  },
  {
   "cell_type": "code",
   "execution_count": null,
   "metadata": {
    "collapsed": true
   },
   "outputs": [],
   "source": []
  }
 ],
 "metadata": {
  "kernelspec": {
   "display_name": "Python (ml3gpu)",
   "language": "python",
   "name": "ml3gpu"
  },
  "language_info": {
   "codemirror_mode": {
    "name": "ipython",
    "version": 3
   },
   "file_extension": ".py",
   "mimetype": "text/x-python",
   "name": "python",
   "nbconvert_exporter": "python",
   "pygments_lexer": "ipython3",
   "version": "3.5.2"
  }
 },
 "nbformat": 4,
 "nbformat_minor": 0
}
